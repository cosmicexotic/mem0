{
 "cells": [
  {
   "cell_type": "markdown",
   "metadata": {},
   "source": [
    "# Memgraph as Graph Memory"
   ]
  },
  {
   "cell_type": "markdown",
   "metadata": {},
   "source": [
    "## Prerequisites\n",
    "\n",
    "### 1. Install Mem0 with Graph Memory support \n",
    "\n",
    "To use Mem0 with Graph Memory support, install it using pip:\n",
    "\n",
    "```bash\n",
    "pip install \"mem0ai[graph]\"\n",
    "```\n",
    "\n",
    "This command installs Mem0 along with the necessary dependencies for graph functionality.\n",
    "\n",
    "### 2. Install Memgraph\n",
    "\n",
    "To utilize Memgraph as Graph Memory, run it with Docker:\n",
    "\n",
    "```bash\n",
    "docker run -p 7687:7687 memgraph/memgraph-mage:latest --schema-info-enabled=True\n",
    "```\n",
    "\n",
    "The `--schema-info-enabled` flag is set to `True` for more performant schema\n",
    "generation.\n",
    "\n",
    "Additional information can be found on [Memgraph documentation](https://memgraph.com/docs). "
   ]
  },
  {
   "cell_type": "markdown",
   "metadata": {},
   "source": [
    "## Configuration\n",
    "\n",
    "Do all the imports and configure OpenAI (enter your OpenAI API key):"
   ]
  },
  {
   "cell_type": "code",
   "execution_count": 1,
   "metadata": {},
   "outputs": [],
   "source": [
    "from mem0 import Memory\n",
    "\n",
    "import os\n",
    "\n",
    "\n",
    "os.environ[\"OPENAI_API_KEY\"] = \"\"\n",
    "os.environ[\"LLM_AZURE_OPENAI_API_KEY\"] = \"FjfmeNsmd6aBBbCOWLb4sl8RU0057djGvmGcvzhqYrOkUtifGvd0JQQJ99BEACHYHv6XJ3w3AAAAACOGIlEZ\"\n",
    "os.environ[\"LLM_AZURE_DEPLOYMENT\"] = \"gpt-4o-mini\"\n",
    "os.environ[\"LLM_AZURE_ENDPOINT\"] = \"https://123s-mann562s-eastus2.cognitiveservices.azure.com/openai/deployments/gpt-4o-mini/chat/completions?api-version=2025-01-01-preview\"\n",
    "os.environ[\"LLM_AZURE_API_VERSION\"] = \"2025-01-01-preview\"\n"
   ]
  },
  {
   "cell_type": "markdown",
   "metadata": {},
   "source": [
    "Set up configuration to use the embedder model and Memgraph as a graph store:"
   ]
  },
  {
   "cell_type": "code",
   "execution_count": 2,
   "metadata": {},
   "outputs": [],
   "source": [
    "config = {\n",
    "    \"llm\": {\n",
    "        \"provider\": \"azure_openai\",\n",
    "        \"config\": {\n",
    "            \"model\": \"gpt-4o-mini\",\n",
    "            \"temperature\": 0.1,\n",
    "            \"max_tokens\": 2000,\n",
    "            \"azure_kwargs\": {\n",
    "                  \"azure_deployment\": \"gpt-4o-mini\",\n",
    "                  \"api_version\": \"2025-01-01-preview\",\n",
    "                  \"azure_endpoint\": \"https://123s-mann562s-eastus2.cognitiveservices.azure.com/openai/deployments/gpt-4o-mini/chat/completions?api-version=2025-01-01-preview\",\n",
    "                  \"api_key\": \"FjfmeNsmd6aBBbCOWLb4sl8RU0057djGvmGcvzhqYrOkUtifGvd0JQQJ99BEACHYHv6XJ3w3AAAAACOGIlEZ\",\n",
    "              }\n",
    "        }\n",
    "    },\n",
    "    \"embedder\": {\n",
    "        \"provider\": \"azure_openai\",\n",
    "        \"config\": {\n",
    "            \"model\": \"text-embedding-3-small\",\n",
    "            \"azure_kwargs\": {\n",
    "                \"azure_deployment\": \"text-embedding-3-small\",\n",
    "                \"api_version\": \"2023-05-15\",\n",
    "                \"azure_endpoint\": \"https://123s-mann562s-eastus2.cognitiveservices.azure.com/openai/deployments/text-embedding-3-small/embeddings?api-version=2023-05-15\",\n",
    "                \"api_key\": \"FjfmeNsmd6aBBbCOWLb4sl8RU0057djGvmGcvzhqYrOkUtifGvd0JQQJ99BEACHYHv6XJ3w3AAAAACOGIlEZ\",\n",
    "            },\n",
    "            \"embedding_dims\": 1536,\n",
    "        }\n",
    "    },\n",
    "    \"graph_store\": {\n",
    "        \"provider\": \"memgraph\",\n",
    "        \"config\": {\n",
    "            \"url\": \"bolt://localhost:7687\",\n",
    "            \"username\": \"memgraph\",\n",
    "            \"password\": \"mem0graph\",\n",
    "        },\n",
    "    },\n",
    "}"
   ]
  },
  {
   "cell_type": "markdown",
   "metadata": {},
   "source": [
    "## Graph Memory initializiation \n",
    "\n",
    "Initialize Memgraph as a Graph Memory store: "
   ]
  },
  {
   "cell_type": "code",
   "execution_count": 4,
   "metadata": {},
   "outputs": [],
   "source": [
    "m = Memory.from_config(config_dict=config)"
   ]
  },
  {
   "cell_type": "markdown",
   "metadata": {},
   "source": [
    "## Store memories \n",
    "\n",
    "Create memories:"
   ]
  },
  {
   "cell_type": "code",
   "execution_count": 5,
   "metadata": {},
   "outputs": [],
   "source": [
    "messages = [\n",
    "    {\n",
    "        \"role\": \"user\",\n",
    "        \"content\": \"I'm planning to watch a movie tonight. Any recommendations?\",\n",
    "    },\n",
    "    {\n",
    "        \"role\": \"assistant\",\n",
    "        \"content\": \"How about a thriller movies? They can be quite engaging.\",\n",
    "    },\n",
    "    {\n",
    "        \"role\": \"user\",\n",
    "        \"content\": \"I'm not a big fan of thriller movies but I love sci-fi movies.\",\n",
    "    },\n",
    "    {\n",
    "        \"role\": \"assistant\",\n",
    "        \"content\": \"Got it! I'll avoid thriller recommendations and suggest sci-fi movies in the future.\",\n",
    "    },\n",
    "]"
   ]
  },
  {
   "cell_type": "markdown",
   "metadata": {},
   "source": [
    "Store memories in Memgraph:"
   ]
  },
  {
   "cell_type": "code",
   "execution_count": 6,
   "metadata": {},
   "outputs": [],
   "source": [
    "# Store inferred memories (default behavior)\n",
    "result = m.add(messages, user_id=\"alice\", metadata={\"category\": \"movie_recommendations\"})"
   ]
  },
  {
   "cell_type": "markdown",
   "metadata": {},
   "source": [
    "![](./alice-memories.png)"
   ]
  },
  {
   "cell_type": "markdown",
   "metadata": {},
   "source": [
    "## Search memories"
   ]
  },
  {
   "cell_type": "code",
   "execution_count": 7,
   "metadata": {},
   "outputs": [
    {
     "name": "stdout",
     "output_type": "stream",
     "text": [
      "Loves sci-fi movies 0.2619825285692935\n",
      "Planning to watch a movie tonight 0.06464504330066467\n",
      "Not a big fan of thriller movies 0.054711775840949814\n"
     ]
    }
   ],
   "source": [
    "for result in m.search(\"what does alice love?\", user_id=\"alice\")[\"results\"]:\n",
    "    print(result[\"memory\"], result[\"score\"])"
   ]
  }
 ],
 "metadata": {
  "kernelspec": {
   "display_name": "AgentMemory311",
   "language": "python",
   "name": "python3"
  },
  "language_info": {
   "codemirror_mode": {
    "name": "ipython",
    "version": 3
   },
   "file_extension": ".py",
   "mimetype": "text/x-python",
   "name": "python",
   "nbconvert_exporter": "python",
   "pygments_lexer": "ipython3",
   "version": "3.11.13"
  }
 },
 "nbformat": 4,
 "nbformat_minor": 2
}
